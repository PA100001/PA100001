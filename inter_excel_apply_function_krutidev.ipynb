{
  "nbformat": 4,
  "nbformat_minor": 0,
  "metadata": {
    "colab": {
      "provenance": [],
      "authorship_tag": "ABX9TyPhGdr1doqLceB8qZuDyIIx",
      "include_colab_link": true
    },
    "kernelspec": {
      "name": "python3",
      "display_name": "Python 3"
    },
    "language_info": {
      "name": "python"
    }
  },
  "cells": [
    {
      "cell_type": "markdown",
      "metadata": {
        "id": "view-in-github",
        "colab_type": "text"
      },
      "source": [
        "<a href=\"https://colab.research.google.com/github/PA100001/PA100001/blob/main/inter_excel_apply_function_krutidev.ipynb\" target=\"_parent\"><img src=\"https://colab.research.google.com/assets/colab-badge.svg\" alt=\"Open In Colab\"/></a>"
      ]
    },
    {
      "cell_type": "code",
      "source": [
        "!pip install openpyxl googletrans==3.1.0a0 pdfplumber pandas\n",
        "!apt-get install ghostscript python3-tk"
      ],
      "metadata": {
        "colab": {
          "base_uri": "https://localhost:8080/"
        },
        "id": "cD5D7hjbTUWs",
        "outputId": "25b6aa31-89d4-4709-cc8f-3a086dbfd56f"
      },
      "execution_count": 42,
      "outputs": [
        {
          "output_type": "stream",
          "name": "stdout",
          "text": [
            "Requirement already satisfied: openpyxl in /usr/local/lib/python3.10/dist-packages (3.1.5)\n",
            "Collecting googletrans==3.1.0a0\n",
            "  Downloading googletrans-3.1.0a0.tar.gz (19 kB)\n",
            "  Preparing metadata (setup.py) ... \u001b[?25l\u001b[?25hdone\n",
            "Collecting httpx==0.13.3 (from googletrans==3.1.0a0)\n",
            "  Downloading httpx-0.13.3-py3-none-any.whl (55 kB)\n",
            "\u001b[2K     \u001b[90m━━━━━━━━━━━━━━━━━━━━━━━━━━━━━━━━━━━━━━━━\u001b[0m \u001b[32m55.1/55.1 kB\u001b[0m \u001b[31m2.5 MB/s\u001b[0m eta \u001b[36m0:00:00\u001b[0m\n",
            "\u001b[?25hRequirement already satisfied: certifi in /usr/local/lib/python3.10/dist-packages (from httpx==0.13.3->googletrans==3.1.0a0) (2024.7.4)\n",
            "Collecting hstspreload (from httpx==0.13.3->googletrans==3.1.0a0)\n",
            "  Downloading hstspreload-2024.7.1-py3-none-any.whl (1.2 MB)\n",
            "\u001b[2K     \u001b[90m━━━━━━━━━━━━━━━━━━━━━━━━━━━━━━━━━━━━━━━━\u001b[0m \u001b[32m1.2/1.2 MB\u001b[0m \u001b[31m19.8 MB/s\u001b[0m eta \u001b[36m0:00:00\u001b[0m\n",
            "\u001b[?25hRequirement already satisfied: sniffio in /usr/local/lib/python3.10/dist-packages (from httpx==0.13.3->googletrans==3.1.0a0) (1.3.1)\n",
            "Collecting chardet==3.* (from httpx==0.13.3->googletrans==3.1.0a0)\n",
            "  Downloading chardet-3.0.4-py2.py3-none-any.whl (133 kB)\n",
            "\u001b[2K     \u001b[90m━━━━━━━━━━━━━━━━━━━━━━━━━━━━━━━━━━━━━━━━\u001b[0m \u001b[32m133.4/133.4 kB\u001b[0m \u001b[31m11.3 MB/s\u001b[0m eta \u001b[36m0:00:00\u001b[0m\n",
            "\u001b[?25hCollecting idna==2.* (from httpx==0.13.3->googletrans==3.1.0a0)\n",
            "  Downloading idna-2.10-py2.py3-none-any.whl (58 kB)\n",
            "\u001b[2K     \u001b[90m━━━━━━━━━━━━━━━━━━━━━━━━━━━━━━━━━━━━━━━━\u001b[0m \u001b[32m58.8/58.8 kB\u001b[0m \u001b[31m5.9 MB/s\u001b[0m eta \u001b[36m0:00:00\u001b[0m\n",
            "\u001b[?25hCollecting rfc3986<2,>=1.3 (from httpx==0.13.3->googletrans==3.1.0a0)\n",
            "  Downloading rfc3986-1.5.0-py2.py3-none-any.whl (31 kB)\n",
            "Collecting httpcore==0.9.* (from httpx==0.13.3->googletrans==3.1.0a0)\n",
            "  Downloading httpcore-0.9.1-py3-none-any.whl (42 kB)\n",
            "\u001b[2K     \u001b[90m━━━━━━━━━━━━━━━━━━━━━━━━━━━━━━━━━━━━━━━━\u001b[0m \u001b[32m42.6/42.6 kB\u001b[0m \u001b[31m4.7 MB/s\u001b[0m eta \u001b[36m0:00:00\u001b[0m\n",
            "\u001b[?25hCollecting h11<0.10,>=0.8 (from httpcore==0.9.*->httpx==0.13.3->googletrans==3.1.0a0)\n",
            "  Downloading h11-0.9.0-py2.py3-none-any.whl (53 kB)\n",
            "\u001b[2K     \u001b[90m━━━━━━━━━━━━━━━━━━━━━━━━━━━━━━━━━━━━━━━━\u001b[0m \u001b[32m53.6/53.6 kB\u001b[0m \u001b[31m5.9 MB/s\u001b[0m eta \u001b[36m0:00:00\u001b[0m\n",
            "\u001b[?25hCollecting h2==3.* (from httpcore==0.9.*->httpx==0.13.3->googletrans==3.1.0a0)\n",
            "  Downloading h2-3.2.0-py2.py3-none-any.whl (65 kB)\n",
            "\u001b[2K     \u001b[90m━━━━━━━━━━━━━━━━━━━━━━━━━━━━━━━━━━━━━━━━\u001b[0m \u001b[32m65.0/65.0 kB\u001b[0m \u001b[31m7.2 MB/s\u001b[0m eta \u001b[36m0:00:00\u001b[0m\n",
            "\u001b[?25hCollecting hyperframe<6,>=5.2.0 (from h2==3.*->httpcore==0.9.*->httpx==0.13.3->googletrans==3.1.0a0)\n",
            "  Downloading hyperframe-5.2.0-py2.py3-none-any.whl (12 kB)\n",
            "Collecting hpack<4,>=3.0 (from h2==3.*->httpcore==0.9.*->httpx==0.13.3->googletrans==3.1.0a0)\n",
            "  Downloading hpack-3.0.0-py2.py3-none-any.whl (38 kB)\n",
            "Requirement already satisfied: et-xmlfile in /usr/local/lib/python3.10/dist-packages (from openpyxl) (1.1.0)\n",
            "Building wheels for collected packages: googletrans\n",
            "  Building wheel for googletrans (setup.py) ... \u001b[?25l\u001b[?25hdone\n",
            "  Created wheel for googletrans: filename=googletrans-3.1.0a0-py3-none-any.whl size=16353 sha256=dab222e03b3746b8e857a6becaf723370e7de60779f161fecc6ddb9959859be8\n",
            "  Stored in directory: /root/.cache/pip/wheels/50/5d/3c/8477d0af4ca2b8b1308812c09f1930863caeebc762fe265a95\n",
            "Successfully built googletrans\n",
            "Installing collected packages: rfc3986, hyperframe, hpack, h11, chardet, idna, hstspreload, h2, httpcore, httpx, googletrans\n",
            "  Attempting uninstall: chardet\n",
            "    Found existing installation: chardet 5.2.0\n",
            "    Uninstalling chardet-5.2.0:\n",
            "      Successfully uninstalled chardet-5.2.0\n",
            "  Attempting uninstall: idna\n",
            "    Found existing installation: idna 3.7\n",
            "    Uninstalling idna-3.7:\n",
            "      Successfully uninstalled idna-3.7\n",
            "Successfully installed chardet-3.0.4 googletrans-3.1.0a0 h11-0.9.0 h2-3.2.0 hpack-3.0.0 hstspreload-2024.7.1 httpcore-0.9.1 httpx-0.13.3 hyperframe-5.2.0 idna-2.10 rfc3986-1.5.0\n"
          ]
        }
      ]
    },
    {
      "cell_type": "code",
      "source": [
        "def kruti_dev_to_unicode(kruti_text):\n",
        "    kruti_array = [\"ñ\",\"Q+Z\",\"sas\",\"aa\",\")Z\",\"ZZ\",\"‘\",\"’\",\"“\",\"”\",\"å\",  \"ƒ\",  \"„\",   \"…\",   \"†\",   \"‡\",   \"ˆ\",   \"‰\",   \"Š\",   \"‹\", \"¶+\",   \"d+\", \"[+k\",\"[+\", \"x+\",  \"T+\",  \"t+\", \"M+\", \"<+\", \"Q+\", \";+\", \"j+\", \"u+\",\"Ùk\", \"Ù\", \"ä\", \"–\", \"—\",\"é\",\"™\",\"=kk\",\"f=k\",  \"à\",   \"á\",    \"â\",   \"ã\",   \"ºz\",  \"º\",   \"í\", \"{k\", \"{\", \"=\",  \"«\", \"Nî\",   \"Vî\",    \"Bî\",   \"Mî\",   \"<î\", \"|\", \"K\", \"}\",\"J\",   \"Vª\",   \"Mª\",  \"<ªª\",  \"Nª\",   \"Ø\",  \"Ý\", \"nzZ\",  \"æ\", \"ç\", \"Á\", \"xz\", \"#\", \":\", \"v‚\",\"vks\",  \"vkS\",  \"vk\",    \"v\",  \"b±\", \"Ã\",  \"bZ\",  \"b\",  \"m\",  \"Å\",  \",s\",  \",\",   \"_\",\"ô\",  \"d\", \"Dk\", \"D\", \"[k\", \"[\", \"x\",\"Xk\", \"X\", \"Ä\", \"?k\", \"?\",   \"³\", \"pkS\",  \"p\", \"Pk\", \"P\",  \"N\",  \"t\", \"Tk\", \"T\",  \">\", \"÷\", \"¥\",\"ê\",  \"ë\",   \"V\",  \"B\",   \"ì\",   \"ï\", \"M+\", \"<+\", \"M\",  \"<\", \".k\", \".\", \"r\",  \"Rk\", \"R\",   \"Fk\", \"F\",  \")\", \"n\", \"/k\", \"èk\",  \"/\", \"Ë\", \"è\", \"u\", \"Uk\", \"U\",   \"i\",  \"Ik\", \"I\",   \"Q\",    \"¶\",  \"c\", \"Ck\",  \"C\",  \"Hk\",  \"H\", \"e\", \"Ek\",  \"E\", \";\",  \"¸\",   \"j\",    \"y\", \"Yk\",  \"Y\",  \"G\",  \"o\", \"Ok\", \"O\", \"'k\", \"'\",   \"\\\"k\",  \"\\\"\",  \"l\", \"Lk\",  \"L\",   \"g\",  \"È\", \"z\", \"Ì\", \"Í\", \"Î\",  \"Ï\",  \"Ñ\",  \"Ò\",  \"Ó\",  \"Ô\",   \"Ö\",  \"Ø\",  \"Ù\",\"Ük\", \"Ü\",\"‚\",    \"ks\",   \"kS\",   \"k\",  \"h\",    \"q\",   \"w\",   \"`\",    \"s\",    \"S\", \"a\",    \"¡\",    \"%\",     \"W\",  \"•\", \"·\", \"∙\", \"·\", \"~j\",  \"~\", \"\\\\\",\"+\",\" ः\",\"^\", \"*\",  \"Þ\", \"ß\", \"(\", \"¼\", \"½\", \"¿\", \"À\", \"¾\", \"A\", \"-\", \"&\", \"&\", \"Œ\", \"]\",\"~ \",\"@\"];\n",
        "    unicode_array = [\"॰\",\"QZ+\",\"sa\",\"a\",\"र्द्ध\",\"Z\",\"\\\"\",\"\\\"\",\"'\",\"'\", \"०\",  \"१\",  \"२\",  \"३\",     \"४\",   \"५\",  \"६\",   \"७\",   \"८\",   \"९\",  \"फ़्\",  \"क़\",  \"ख़\", \"ख़्\",  \"ग़\", \"ज़्\", \"ज़\",  \"ड़\",  \"ढ़\",   \"फ़\",  \"य़\",  \"ऱ\",  \"ऩ\",  \"त्त\", \"त्त्\", \"क्त\",  \"दृ\",  \"कृ\",\"न्न\",\"न्न्\",\"=k\",\"f=\", \"ह्न\",  \"ह्य\",  \"हृ\",  \"ह्म\",  \"ह्र\",  \"ह्\",   \"द्द\",  \"क्ष\", \"क्ष्\", \"त्र\", \"त्र्\",  \"छ्य\",  \"ट्य\",  \"ठ्य\",  \"ड्य\",  \"ढ्य\", \"द्य\", \"ज्ञ\", \"द्व\", \"श्र\",  \"ट्र\",    \"ड्र\",    \"ढ्र\",    \"छ्र\",   \"क्र\",  \"फ्र\", \"र्द्र\",  \"द्र\",   \"प्र\", \"प्र\",  \"ग्र\", \"रु\",  \"रू\", \"ऑ\",   \"ओ\",  \"औ\",  \"आ\",   \"अ\", \"ईं\", \"ई\",  \"ई\",   \"इ\",  \"उ\",   \"ऊ\",  \"ऐ\",  \"ए\", \"ऋ\", \"क्क\", \"क\", \"क\", \"क्\", \"ख\", \"ख्\", \"ग\", \"ग\", \"ग्\", \"घ\", \"घ\", \"घ्\", \"ङ\", \"चै\",  \"च\", \"च\", \"च्\", \"छ\", \"ज\", \"ज\", \"ज्\",  \"झ\",  \"झ्\", \"ञ\", \"ट्ट\",   \"ट्ठ\",   \"ट\",   \"ठ\",   \"ड्ड\",   \"ड्ढ\",  \"ड़\", \"ढ़\", \"ड\",   \"ढ\", \"ण\", \"ण्\", \"त\", \"त\", \"त्\", \"थ\", \"थ्\",  \"द्ध\",  \"द\", \"ध\", \"ध\", \"ध्\", \"ध्\", \"ध्\", \"न\", \"न\", \"न्\",    \"प\", \"प\", \"प्\",  \"फ\", \"फ्\",  \"ब\", \"ब\", \"ब्\",  \"भ\", \"भ्\",  \"म\",  \"म\", \"म्\", \"य\", \"य्\",  \"र\", \"ल\", \"ल\", \"ल्\",  \"ळ\",  \"व\", \"व\", \"व्\", \"श\", \"श्\",  \"ष\", \"ष्\", \"स\", \"स\", \"स्\", \"ह\", \"ीं\", \"्र\", \"द्द\", \"ट्ट\",\"ट्ठ\",\"ड्ड\",\"कृ\",\"भ\",\"्य\",\"ड्ढ\",\"झ्\",\"क्र\",\"त्त्\",\"श\",\"श्\",\"ॉ\",  \"ो\",   \"ौ\",   \"ा\",   \"ी\",   \"ु\",   \"ू\",   \"ृ\",   \"े\",   \"ै\", \"ं\",   \"ँ\",   \"ः\",   \"ॅ\",  \"ऽ\", \"ऽ\", \"ऽ\", \"ऽ\", \"्र\",  \"्\", \"?\", \"़\",\":\", \"‘\",   \"’\",   \"“\",   \"”\",  \";\",  \"(\",    \")\",   \"{\",    \"}\",   \"=\", \"।\", \".\", \"-\",  \"µ\", \"॰\", \",\",\"् \",\"/\"];\n",
        "    kruti_array_length = len(kruti_array)\n",
        "    processed_text = \"\"\n",
        "\n",
        "    if isinstance(kruti_text, str) and kruti_text != \"\":\n",
        "      for input_symbol_idx in range(kruti_array_length):\n",
        "          while kruti_array[input_symbol_idx] in kruti_text:\n",
        "              kruti_text = kruti_text.replace(\n",
        "                    kruti_array[input_symbol_idx],\n",
        "                    unicode_array[input_symbol_idx]\n",
        "                )\n",
        "      kruti_text = kruti_text.replace(\"±\", \"Zं\")\n",
        "      kruti_text = kruti_text.replace(\"Æ\", \"र्f\")\n",
        "\n",
        "      pi = kruti_text.find(\"f\")\n",
        "      while pi != -1:\n",
        "          cni = kruti_text[pi + 1]\n",
        "          ctbr = \"f\" + cni\n",
        "          kruti_text = kruti_text.replace(ctbr, cni + \"ि\")\n",
        "          pi = kruti_text.find(\"f\", pi + 1)\n",
        "\n",
        "      kruti_text = kruti_text.replace(\"Ç\", \"fa\")\n",
        "      kruti_text = kruti_text.replace(\"É\", \"र्fa\")\n",
        "\n",
        "      pi = kruti_text.find(\"fa\")\n",
        "      while pi != -1:\n",
        "          cntip2 = kruti_text[pi + 2]\n",
        "          ctbr = \"fa\" + cntip2\n",
        "          kruti_text = kruti_text.replace(ctbr, cntip2 + \"िं\")\n",
        "          pi = kruti_text.find(\"fa\", pi + 2)\n",
        "\n",
        "      kruti_text = kruti_text.replace(\"Ê\", \"ीZ\")\n",
        "\n",
        "      powe = kruti_text.find(\"ि्\")\n",
        "      while powe != -1:\n",
        "          cntwe = kruti_text[powe + 2]\n",
        "          ctbr = \"ि्\" + cntwe\n",
        "          kruti_text = kruti_text.replace(ctbr, \"्\" + cntwe + \"ि\")\n",
        "          powe = kruti_text.find(\"ि्\", powe + 2)\n",
        "\n",
        "      matraslist = \"अ आ इ ई उ ऊ ए ऐ ओ औ ा ि ी ु ू ृ े ै ो ौ ं : ँ ॅ\"\n",
        "\n",
        "      rpos = kruti_text.find(\"Z\")\n",
        "      while rpos > 0:\n",
        "          pphr = rpos - 1\n",
        "          chtr = kruti_text[pphr]\n",
        "          while chtr in matraslist:\n",
        "              pphr -= 1\n",
        "              chtr = kruti_text[pphr]\n",
        "          ctbr = kruti_text[pphr:rpos]\n",
        "          rstr = \"र्\" + ctbr\n",
        "          ctbr = ctbr + \"Z\"\n",
        "          kruti_text = kruti_text.replace(ctbr, rstr)\n",
        "          rpos = kruti_text.find(\"Z\")\n",
        "\n",
        "      processed_text += kruti_text\n",
        "      return processed_text\n",
        "\n",
        "\n",
        "# Example usage:\n",
        "input_text = \"uokauxjvfejj\"\n",
        "output_text = kruti_dev_to_unicode(input_text)\n",
        "print(output_text)\n"
      ],
      "metadata": {
        "colab": {
          "base_uri": "https://localhost:8080/"
        },
        "id": "4JfmAS9834yg",
        "outputId": "168bb9a1-a2d7-4790-ebc7-b4a89a49fb66"
      },
      "execution_count": 44,
      "outputs": [
        {
          "output_type": "stream",
          "name": "stdout",
          "text": [
            "नवांनगरअमिरर\n"
          ]
        }
      ]
    },
    {
      "cell_type": "code",
      "source": [
        "import openpyxl\n",
        "from googletrans import Translator\n",
        "\n",
        "def translate_hindi_to_english(text):\n",
        "    translator = Translator()\n",
        "    try:\n",
        "        translation = translator.translate(text, src='hi', dest='en')\n",
        "        return translation.text\n",
        "    except Exception as e:\n",
        "        print(f\"Translation error: {e}\")\n",
        "        return text  # Return original text if translation fails\n",
        "\n",
        "def process_excel_file(file_path, output_path):\n",
        "    # Load the workbook\n",
        "    workbook = openpyxl.load_workbook(file_path)\n",
        "\n",
        "    # Iterate through all sheets\n",
        "    for sheet in workbook.worksheets:\n",
        "        # Iterate through all rows and columns\n",
        "        for row in sheet.iter_rows():\n",
        "            for cell in row:\n",
        "              if isinstance(cell.value, str):\n",
        "                cell.value = kruti_dev_to_unicode(cell.value)\n",
        "                # Translate Hindi Unicode to English\n",
        "                # cell.value = translate_hindi_to_english(unicode_text)\n",
        "\n",
        "    # Save the modified workbook\n",
        "    workbook.save(output_path)\n",
        "\n",
        "# Usage\n",
        "file_path = '/content/Panchkula pollling stations Adobe.xlsx'  # Update this path\n",
        "output_path = '/content/No_Translate.xlsx'\n",
        "process_excel_file(file_path, output_path)"
      ],
      "metadata": {
        "id": "zQ8jWMlvL6Be"
      },
      "execution_count": 46,
      "outputs": []
    }
  ]
}